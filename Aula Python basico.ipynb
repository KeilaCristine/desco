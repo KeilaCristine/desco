{
  "nbformat": 4,
  "nbformat_minor": 0,
  "metadata": {
    "colab": {
      "provenance": [],
      "authorship_tag": "ABX9TyNQQUTDr/YpqYPKzKSs+9l/",
      "include_colab_link": true
    },
    "kernelspec": {
      "name": "python3",
      "display_name": "Python 3"
    },
    "language_info": {
      "name": "python"
    }
  },
  "cells": [
    {
      "cell_type": "markdown",
      "metadata": {
        "id": "view-in-github",
        "colab_type": "text"
      },
      "source": [
        "<a href=\"https://colab.research.google.com/github/KeilaCristine/desco/blob/master/Aula%20Python%20basico.ipynb\" target=\"_parent\"><img src=\"https://colab.research.google.com/assets/colab-badge.svg\" alt=\"Open In Colab\"/></a>"
      ]
    },
    {
      "cell_type": "code",
      "execution_count": 2,
      "metadata": {
        "colab": {
          "base_uri": "https://localhost:8080/"
        },
        "id": "zvvleVXQPlk7",
        "outputId": "efcd934d-7f94-4a26-b0a0-16718ca2d49d"
      },
      "outputs": [
        {
          "output_type": "stream",
          "name": "stdout",
          "text": [
            "Olá, Mundo!\n"
          ]
        }
      ],
      "source": [
        "#Esse código impreme o testo  Olá, Mundo!\n",
        "print('Olá, Mundo!');"
      ]
    },
    {
      "cell_type": "code",
      "source": [
        "#Variável saudação\n",
        "saudacao = 'Oi'\n",
        "\n",
        "#Variável pessoa a ser saudada\n",
        "pessoa = 'Maria'\n",
        "\n",
        "print(saudacao + ',' + pessoa + '!');"
      ],
      "metadata": {
        "colab": {
          "base_uri": "https://localhost:8080/"
        },
        "id": "0O1LDvyeQJIz",
        "outputId": "b65f2b0a-3324-406e-bf94-1ab45df7d592"
      },
      "execution_count": 3,
      "outputs": [
        {
          "output_type": "stream",
          "name": "stdout",
          "text": [
            "Oi,Maria!\n"
          ]
        }
      ]
    },
    {
      "cell_type": "code",
      "source": [
        "#Pedido ao usuário que indique a saudação como o comando input()\n",
        "saudacao = input('Indique a saudação. Exemplo: Oi, e aí, Olá: ')\n",
        "\n",
        "#Pedindo ao usuário que indique a pessoa cumprimentada com input\n",
        "pessoa = input('Indique a pessoa cumprimentada: ')\n",
        "\n",
        "#imprimindo o que o usuário escreveu\n",
        "print(saudacao + ',' + pessoa + '!')"
      ],
      "metadata": {
        "colab": {
          "base_uri": "https://localhost:8080/"
        },
        "id": "wFpX4m65RSOb",
        "outputId": "750a2182-bfde-40af-d21c-ebb07d25ce31"
      },
      "execution_count": 4,
      "outputs": [
        {
          "output_type": "stream",
          "name": "stdout",
          "text": [
            "Indique a saudação. Exemplo: Oi, e aí, Olá: olá\n",
            "Indique a pessoa cumprimentada: Keila\n",
            "olá,Keila!\n"
          ]
        }
      ]
    },
    {
      "cell_type": "code",
      "source": [
        "#Pedido ao usuário que indique a saudação como o comando input()\n",
        "saudacao = input('Indique a saudação. Exemplo: Oi, e aí, Olá: ')\n",
        "\n",
        "#Pedindo ao usuário que indique a pessoa cumprimentada com input\n",
        "pessoa = input('Indique a pessoa cumprimentada: ')\n",
        "\n",
        "#imprimindo o que o usuário escreveu com novas condiçoes\n",
        "if (pessoa == 'Alan Dantas'):\n",
        "  print(saudacao + ',' + pessoa + '! Você é o professor do curso de Analytics para Estratégia de Negócios!')\n",
        "else:\n",
        "  print(saudacao + ',' + pessoa + '! Você é estudante do curso de Analytics para Estratégia de Negócios!')"
      ],
      "metadata": {
        "colab": {
          "base_uri": "https://localhost:8080/"
        },
        "id": "9wvXaN8mSNrF",
        "outputId": "08b7f56d-367d-42d8-a997-d2e1973f7af5"
      },
      "execution_count": 8,
      "outputs": [
        {
          "output_type": "stream",
          "name": "stdout",
          "text": [
            "Indique a saudação. Exemplo: Oi, e aí, Olá: Hello\n",
            "Indique a pessoa cumprimentada: Alan Dantas\n",
            "Hello,Alan Dantas! Você é o professor do curso de Analytics para Estratégia de Negócios!\n"
          ]
        }
      ]
    },
    {
      "cell_type": "code",
      "source": [
        "#Leitura do arquivo\n",
        "\n",
        "lines = []\n",
        "with open('/nomes_saudados.txt') as f:\n",
        "  lines = f.readlines()\n",
        "\n",
        "count = 0\n",
        "for line in lines:\n",
        "  count += 1\n",
        "  print(f'{line}')\n"
      ],
      "metadata": {
        "colab": {
          "base_uri": "https://localhost:8080/"
        },
        "id": "e-uEV37eTT7A",
        "outputId": "cc29fbc2-f75d-49d0-94e5-92cfbf214be4"
      },
      "execution_count": 27,
      "outputs": [
        {
          "output_type": "stream",
          "name": "stdout",
          "text": [
            "1\n",
            "\n",
            " Alan\n",
            "\n",
            " Geoge\n",
            "\n",
            " Maria\n",
            "\n",
            " Mariana\n",
            "\n",
            " Roberto\n",
            "\n",
            " Mario\n",
            "\n",
            " Carol\n",
            "\n",
            " Keila\n",
            "\n",
            "Erica\n"
          ]
        }
      ]
    },
    {
      "cell_type": "code",
      "source": [
        "#Pedido ao usuário que indique a saudação como o comando input()\n",
        "saudacao = input('Indique a saudação. Exemplo: Oi, e aí, Olá: ')\n",
        "\n",
        "#Pedindo ao usuário que indique a pessoa cumprimentada com input\n",
        "pessoa = input('Indique a pessoa cumprimentada: ')\n",
        "\n",
        "#imprimindo o que o usuário escreveu com novas condiçoes\n",
        "if (pessoa == 'Alan Dantas'):\n",
        "  print(saudacao + ',' + pessoa + '! Você é o professor do curso de Analytics para Estratégia de Negócios!')\n",
        "else:\n",
        "  print(saudacao + ',' + pessoa + '! Você é estudante do curso de Analytics para Estratégia de Negócios!')\n",
        "\n",
        "#Salvando no arquivo\n",
        "with open('/nomes_saudados.txt' , 'a') as f:\n",
        "  f.write('\\n' + pessoa)\n",
        "f.close()"
      ],
      "metadata": {
        "colab": {
          "base_uri": "https://localhost:8080/"
        },
        "id": "ZsEc3wnqZfTR",
        "outputId": "b86b0ebc-ad79-44e9-f9f4-689a9b930d04"
      },
      "execution_count": 26,
      "outputs": [
        {
          "output_type": "stream",
          "name": "stdout",
          "text": [
            "Indique a saudação. Exemplo: Oi, e aí, Olá: OI\n",
            "Indique a pessoa cumprimentada: Erica\n",
            "OI,Erica! Você é estudante do curso de Analytics para Estratégia de Negócios!\n"
          ]
        }
      ]
    }
  ]
}